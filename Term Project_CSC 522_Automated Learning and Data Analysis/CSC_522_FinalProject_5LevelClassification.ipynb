{
 "cells": [
  {
   "cell_type": "code",
   "execution_count": 1,
   "metadata": {},
   "outputs": [
    {
     "name": "stderr",
     "output_type": "stream",
     "text": [
      "/Users/SAKIB/anaconda3/lib/python3.6/site-packages/sklearn/cross_validation.py:41: DeprecationWarning: This module was deprecated in version 0.18 in favor of the model_selection module into which all the refactored classes and functions are moved. Also note that the interface of the new CV iterators are different from that of this module. This module will be removed in 0.20.\n",
      "  \"This module will be removed in 0.20.\", DeprecationWarning)\n"
     ]
    }
   ],
   "source": [
    "import numpy  as np\n",
    "import pandas as pd\n",
    "import matplotlib.pyplot as plt\n",
    "from sklearn.preprocessing import LabelEncoder\n",
    "from sklearn import cross_validation, metrics\n",
    "from sklearn.preprocessing import RobustScaler\n",
    "% matplotlib inline"
   ]
  },
  {
   "cell_type": "code",
   "execution_count": 2,
   "metadata": {
    "collapsed": true
   },
   "outputs": [],
   "source": [
    "data_mathematics= pd.read_csv(\"/Users/SAKIB/Desktop/Mathematics_Scores.csv\")\n",
    "data_portuguese = pd.read_csv(\"/Users/SAKIB/Desktop/Portuguese_Scores.csv\" )"
   ]
  },
  {
   "cell_type": "code",
   "execution_count": 3,
   "metadata": {
    "collapsed": true
   },
   "outputs": [],
   "source": [
    "df_m_5L= data_mathematics.copy()\n",
    "df_p_5L= data_portuguese.copy()\n",
    "df_m_5L['G3']= np.where(df_m_5L['G3'].between(0,9)  , 0, df_m_5L['G3'])\n",
    "df_m_5L['G3']= np.where(df_m_5L['G3'].between(10,11), 1, df_m_5L['G3'])\n",
    "df_m_5L['G3']= np.where(df_m_5L['G3'].between(12,13), 2, df_m_5L['G3'])\n",
    "df_m_5L['G3']= np.where(df_m_5L['G3'].between(14,15), 3, df_m_5L['G3'])\n",
    "df_m_5L['G3']= np.where(df_m_5L['G3'].between(16,20), 4, df_m_5L['G3'])\n",
    "\n",
    "df_p_5L['G3']= np.where(df_p_5L['G3'].between(0,9)  , 0, df_p_5L['G3'])\n",
    "df_p_5L['G3']= np.where(df_p_5L['G3'].between(10,11), 1, df_p_5L['G3'])\n",
    "df_p_5L['G3']= np.where(df_p_5L['G3'].between(12,13), 2, df_p_5L['G3'])\n",
    "df_p_5L['G3']= np.where(df_p_5L['G3'].between(14,15), 3, df_p_5L['G3'])\n",
    "df_p_5L['G3']= np.where(df_p_5L['G3'].between(16,20), 4, df_p_5L['G3'])"
   ]
  },
  {
   "cell_type": "code",
   "execution_count": 4,
   "metadata": {
    "collapsed": true
   },
   "outputs": [],
   "source": [
    "df_m_2L= df_m_5L.copy()\n",
    "df_p_2L= df_p_5L.copy()\n",
    "df_m_2L['G3']= np.where(df_m_2L['G3'].between(1,4)  , 1, df_m_2L['G3'])\n",
    "df_p_2L['G3']= np.where(df_p_2L['G3'].between(1,4)  , 1, df_p_2L['G3'])"
   ]
  },
  {
   "cell_type": "markdown",
   "metadata": {},
   "source": [
    "# Plotting the grade distribution:--------------------------------------------------------"
   ]
  },
  {
   "cell_type": "code",
   "execution_count": 5,
   "metadata": {},
   "outputs": [
    {
     "data": {
      "image/png": "[encoded data removed]",
      "text/plain": [
       "<matplotlib.figure.Figure at 0x1a170b4278>"
      ]
     },
     "metadata": {},
     "output_type": "display_data"
    }
   ],
   "source": [
    "plt.figure(figsize=(10,5))\n",
    "plt.subplot(1,2,1)\n",
    "plt.bar(sorted(df_p_5L['G3'].unique()), df_p_5L['G3'].value_counts()[[0,1,2,3,4]])\n",
    "plt.axis([-0.5,4.5,0,220])\n",
    "plt.title('Portuguese grades');plt.xlabel('Final Grade (G3)');plt.ylabel('No. of students')\n",
    "plt.subplot(1,2,2)\n",
    "plt.bar(sorted(df_m_5L['G3'].unique()), df_m_5L['G3'].value_counts()[[0,1,2,3,4]])\n",
    "plt.axis([-0.5,4.5,0,220])\n",
    "plt.title('Mathematics grades');plt.xlabel('Final Grade (G3)');plt.ylabel('No. of students')\n",
    "plt.subplots_adjust(wspace = 1,hspace=0.5)\n"
   ]
  },
  {
   "cell_type": "code",
   "execution_count": 6,
   "metadata": {
    "collapsed": true
   },
   "outputs": [],
   "source": [
    "# Label Encoding:\n",
    "\n",
    "le= LabelEncoder()\n",
    "for col in df_m_5L.columns.values:\n",
    "    if df_m_5L[col].dtypes=='object':\n",
    "        data=df_m_5L[col].append(df_m_5L[col])\n",
    "        le.fit(data.values)\n",
    "        df_m_5L[col]=le.transform(df_m_5L[col])\n",
    "        df_p_5L[col]=le.transform(df_p_5L[col])"
   ]
  },
  {
   "cell_type": "code",
   "execution_count": 7,
   "metadata": {
    "collapsed": true
   },
   "outputs": [],
   "source": [
    "scaler = RobustScaler()\n",
    "df_m_5L.iloc[:,0:32]= pd.DataFrame(scaler.fit_transform(df_m_5L.iloc[:,0:32]),columns=df_m_5L.drop('G3',axis=1).columns.values)\n",
    "df_p_5L.iloc[:,0:32]= pd.DataFrame(scaler.fit_transform(df_p_5L.iloc[:,0:32]),columns=df_p_5L.drop('G3',axis=1).columns.values)"
   ]
  },
  {
   "cell_type": "code",
   "execution_count": 8,
   "metadata": {
    "collapsed": true
   },
   "outputs": [],
   "source": [
    "list_m= []\n",
    "list_p= []"
   ]
  },
  {
   "cell_type": "markdown",
   "metadata": {},
   "source": [
    "# Logistic Regression          :-------------------------------------------------------------"
   ]
  },
  {
   "cell_type": "code",
   "execution_count": 9,
   "metadata": {},
   "outputs": [
    {
     "name": "stdout",
     "output_type": "stream",
     "text": [
      "Logistic Regression:\n",
      "\n",
      "Portuguese dataset:\n",
      "Model accuracy: 0.533128 \n",
      "Confusion matrix: \n",
      "[[ 66  32   2   0   0]\n",
      " [ 33 120  45   3   0]\n",
      " [  1  55  69  28   1]\n",
      " [  0  16  38  28  30]\n",
      " [  0   1   5  13  63]] \n",
      "Classification report: \n",
      "             precision    recall  f1-score   support\n",
      "\n",
      "          0       0.66      0.66      0.66       100\n",
      "          1       0.54      0.60      0.56       201\n",
      "          2       0.43      0.45      0.44       154\n",
      "          3       0.39      0.25      0.30       112\n",
      "          4       0.67      0.77      0.72        82\n",
      "\n",
      "avg / total       0.52      0.53      0.52       649\n",
      " \n",
      "Mathematics dataset:\n",
      "Model accuracy: 0.587342 \n",
      "Confusion matrix: \n",
      "[[115  12   2   1   0]\n",
      " [ 33  48  14   8   0]\n",
      " [  0  30  17  14   1]\n",
      " [  0  11  12  24  13]\n",
      " [  0   0   2  10  28]] \n",
      "Classification report: \n",
      "             precision    recall  f1-score   support\n",
      "\n",
      "          0       0.78      0.88      0.83       130\n",
      "          1       0.48      0.47      0.47       103\n",
      "          2       0.36      0.27      0.31        62\n",
      "          3       0.42      0.40      0.41        60\n",
      "          4       0.67      0.70      0.68        40\n",
      "\n",
      "avg / total       0.57      0.59      0.58       395\n",
      " \n"
     ]
    }
   ],
   "source": [
    "from sklearn.linear_model import LogisticRegression\n",
    "\n",
    "print(\"Logistic Regression:\\n\")\n",
    "print(\"Portuguese dataset:\")\n",
    "predicted_lr= cross_validation.cross_val_predict(LogisticRegression(), df_p_5L.drop('G3',axis=1), df_p_5L['G3'], cv=10)\n",
    "print(\"Model accuracy: %f \" % metrics.accuracy_score(df_p_5L['G3'], predicted_lr))\n",
    "print(\"Confusion matrix: \\n%s \" % metrics.confusion_matrix(df_p_5L['G3'],predicted_lr))\n",
    "print(\"Classification report: \\n%s \" % metrics.classification_report(df_p_5L['G3'],predicted_lr))\n",
    "list_p.append(metrics.accuracy_score(df_p_5L['G3'], predicted_lr))\n",
    "\n",
    "print(\"Mathematics dataset:\")\n",
    "predicted_lr= cross_validation.cross_val_predict(LogisticRegression(), df_m_5L.drop('G3',axis=1), df_m_5L['G3'], cv=10)\n",
    "print(\"Model accuracy: %f \" % metrics.accuracy_score(df_m_5L['G3'], predicted_lr))\n",
    "print(\"Confusion matrix: \\n%s \" % metrics.confusion_matrix(df_m_5L['G3'],predicted_lr))\n",
    "print(\"Classification report: \\n%s \" % metrics.classification_report(df_m_5L['G3'],predicted_lr))\n",
    "list_m.append(metrics.accuracy_score(df_m_5L['G3'], predicted_lr))"
   ]
  },
  {
   "cell_type": "markdown",
   "metadata": {},
   "source": [
    "# Naive Bayes Classifier     :-------------------------------------------------------------"
   ]
  },
  {
   "cell_type": "code",
   "execution_count": 10,
   "metadata": {},
   "outputs": [
    {
     "name": "stdout",
     "output_type": "stream",
     "text": [
      "Naive Bayes Classifier:\n",
      "\n",
      "Portuguese dataset:\n",
      "Model accuracy: 0.469954 \n",
      "Confusion matrix: \n",
      "[[ 70  28   0   1   1]\n",
      " [ 34 108  30  11  18]\n",
      " [  3  15  41  22  73]\n",
      " [  1   1   7  14  89]\n",
      " [  1   1   1   7  72]] \n",
      "Classification report: \n",
      "             precision    recall  f1-score   support\n",
      "\n",
      "          0       0.64      0.70      0.67       100\n",
      "          1       0.71      0.54      0.61       201\n",
      "          2       0.52      0.27      0.35       154\n",
      "          3       0.25      0.12      0.17       112\n",
      "          4       0.28      0.88      0.43        82\n",
      "\n",
      "avg / total       0.52      0.47      0.46       649\n",
      " \n",
      "Mathematics dataset:\n",
      "Model accuracy: 0.544304 \n",
      "Confusion matrix: \n",
      "[[93 36  0  1  0]\n",
      " [13 49  9 27  5]\n",
      " [ 3 11 12 26 10]\n",
      " [ 0  2  5 33 20]\n",
      " [ 0  0  3  9 28]] \n",
      "Classification report: \n",
      "             precision    recall  f1-score   support\n",
      "\n",
      "          0       0.85      0.72      0.78       130\n",
      "          1       0.50      0.48      0.49       103\n",
      "          2       0.41      0.19      0.26        62\n",
      "          3       0.34      0.55      0.42        60\n",
      "          4       0.44      0.70      0.54        40\n",
      "\n",
      "avg / total       0.57      0.54      0.54       395\n",
      " \n"
     ]
    }
   ],
   "source": [
    "from sklearn.naive_bayes import GaussianNB\n",
    "\n",
    "print(\"Naive Bayes Classifier:\\n\")\n",
    "print(\"Portuguese dataset:\")\n",
    "predicted_NB= cross_validation.cross_val_predict(GaussianNB(), df_p_5L.drop('G3',axis=1), df_p_5L['G3'], cv=10)\n",
    "print(\"Model accuracy: %f \" % metrics.accuracy_score(df_p_5L['G3'], predicted_NB))\n",
    "print(\"Confusion matrix: \\n%s \" % metrics.confusion_matrix(df_p_5L['G3'],predicted_NB))\n",
    "print(\"Classification report: \\n%s \" % metrics.classification_report(df_p_5L['G3'],predicted_NB))\n",
    "list_p.append(metrics.accuracy_score(df_p_5L['G3'], predicted_NB))\n",
    "\n",
    "print(\"Mathematics dataset:\")\n",
    "predicted_NB= cross_validation.cross_val_predict(GaussianNB(), df_m_5L.drop('G3',axis=1), df_m_5L['G3'], cv=10)\n",
    "print(\"Model accuracy: %f \" % metrics.accuracy_score(df_m_5L['G3'], predicted_NB))\n",
    "print(\"Confusion matrix: \\n%s \" % metrics.confusion_matrix(df_m_5L['G3'],predicted_NB))\n",
    "print(\"Classification report: \\n%s \" % metrics.classification_report(df_m_5L['G3'],predicted_NB))\n",
    "list_m.append(metrics.accuracy_score(df_m_5L['G3'], predicted_NB))"
   ]
  },
  {
   "cell_type": "markdown",
   "metadata": {},
   "source": [
    "# Support Vector Machines:-------------------------------------------------------------"
   ]
  },
  {
   "cell_type": "code",
   "execution_count": 11,
   "metadata": {},
   "outputs": [
    {
     "name": "stderr",
     "output_type": "stream",
     "text": [
      "/Users/SAKIB/anaconda3/lib/python3.6/site-packages/sklearn/grid_search.py:42: DeprecationWarning: This module was deprecated in version 0.18 in favor of the model_selection module into which all the refactored classes and functions are moved. This module will be removed in 0.20.\n",
      "  DeprecationWarning)\n"
     ]
    },
    {
     "name": "stdout",
     "output_type": "stream",
     "text": [
      "Support Vector Machines:\n",
      "\n",
      "Portuguese dataset:\n",
      "Model accuracy: 0.696456 \n",
      "Confusion matrix: \n",
      "[[ 74  25   1   0   0]\n",
      " [ 20 159  22   0   0]\n",
      " [  1  27 106  20   0]\n",
      " [  0   3  41  54  14]\n",
      " [  0   1   0  22  59]] \n",
      "Classification report: \n",
      "             precision    recall  f1-score   support\n",
      "\n",
      "          0       0.78      0.74      0.76       100\n",
      "          1       0.74      0.79      0.76       201\n",
      "          2       0.62      0.69      0.65       154\n",
      "          3       0.56      0.48      0.52       112\n",
      "          4       0.81      0.72      0.76        82\n",
      "\n",
      "avg / total       0.70      0.70      0.69       649\n",
      " \n",
      "Mathematics dataset:\n",
      "Model accuracy: 0.696203 \n",
      "Confusion matrix: \n",
      "[[108  22   0   0   0]\n",
      " [ 20  68  15   0   0]\n",
      " [  0  25  28   9   0]\n",
      " [  0   3  10  42   5]\n",
      " [  0   0   1  10  29]] \n",
      "Classification report: \n",
      "             precision    recall  f1-score   support\n",
      "\n",
      "          0       0.84      0.83      0.84       130\n",
      "          1       0.58      0.66      0.62       103\n",
      "          2       0.52      0.45      0.48        62\n",
      "          3       0.69      0.70      0.69        60\n",
      "          4       0.85      0.72      0.78        40\n",
      "\n",
      "avg / total       0.70      0.70      0.70       395\n",
      " \n"
     ]
    }
   ],
   "source": [
    "from sklearn.svm import SVC\n",
    "from sklearn.grid_search import GridSearchCV\n",
    "\n",
    "print(\"Support Vector Machines:\\n\")\n",
    "print(\"Portuguese dataset:\")\n",
    "param_grid= {'C':[0.1,1,10,100,1000],'gamma':[1,0.1,0.01,0.001,0.0001]}\n",
    "predicted_svc= cross_validation.cross_val_predict(GridSearchCV(SVC(),param_grid,verbose=0), df_p_5L.drop('G3',axis=1), df_p_5L['G3'], cv=10)\n",
    "print(\"Model accuracy: %f \" % metrics.accuracy_score(df_p_5L['G3'], predicted_svc))\n",
    "print(\"Confusion matrix: \\n%s \" % metrics.confusion_matrix(df_p_5L['G3'],predicted_svc))\n",
    "print(\"Classification report: \\n%s \" % metrics.classification_report(df_p_5L['G3'],predicted_svc))\n",
    "list_p.append(metrics.accuracy_score(df_p_5L['G3'], predicted_svc))\n",
    "\n",
    "print(\"Mathematics dataset:\")\n",
    "predicted_svc= cross_validation.cross_val_predict(GridSearchCV(SVC(),param_grid,verbose=0), df_m_5L.drop('G3',axis=1), df_m_5L['G3'], cv=10)\n",
    "print(\"Model accuracy: %f \" % metrics.accuracy_score(df_m_5L['G3'], predicted_svc))\n",
    "print(\"Confusion matrix: \\n%s \" % metrics.confusion_matrix(df_m_5L['G3'],predicted_svc))\n",
    "print(\"Classification report: \\n%s \" % metrics.classification_report(df_m_5L['G3'],predicted_svc))\n",
    "list_m.append(metrics.accuracy_score(df_m_5L['G3'], predicted_svc))"
   ]
  },
  {
   "cell_type": "markdown",
   "metadata": {},
   "source": [
    "# Decision Tree Classifier:---------------------------------------------------------------"
   ]
  },
  {
   "cell_type": "code",
   "execution_count": 12,
   "metadata": {},
   "outputs": [
    {
     "name": "stdout",
     "output_type": "stream",
     "text": [
      "Decision Tree Classifier:\n",
      "\n",
      "Portuguese dataset:\n",
      "Model accuracy: 0.759630 \n",
      "Confusion matrix: \n",
      "[[ 66  33   1   0   0]\n",
      " [  7 190   4   0   0]\n",
      " [  0  33 111  10   0]\n",
      " [  0   1  41  68   2]\n",
      " [  0   1   0  23  58]] \n",
      "Classification report: \n",
      "             precision    recall  f1-score   support\n",
      "\n",
      "          0       0.90      0.66      0.76       100\n",
      "          1       0.74      0.95      0.83       201\n",
      "          2       0.71      0.72      0.71       154\n",
      "          3       0.67      0.61      0.64       112\n",
      "          4       0.97      0.71      0.82        82\n",
      "\n",
      "avg / total       0.77      0.76      0.76       649\n",
      " \n",
      "Mathematics dataset:\n",
      "Model accuracy: 0.706329 \n",
      "Confusion matrix: \n",
      "[[109  21   0   0   0]\n",
      " [ 22  67  14   0   0]\n",
      " [  0  14  29  19   0]\n",
      " [  0   0  13  44   3]\n",
      " [  0   0   0  10  30]] \n",
      "Classification report: \n",
      "             precision    recall  f1-score   support\n",
      "\n",
      "          0       0.83      0.84      0.84       130\n",
      "          1       0.66      0.65      0.65       103\n",
      "          2       0.52      0.47      0.49        62\n",
      "          3       0.60      0.73      0.66        60\n",
      "          4       0.91      0.75      0.82        40\n",
      "\n",
      "avg / total       0.71      0.71      0.71       395\n",
      " \n"
     ]
    }
   ],
   "source": [
    "from sklearn.tree import DecisionTreeClassifier\n",
    "from sklearn.grid_search import GridSearchCV\n",
    "\n",
    "print(\"Decision Tree Classifier:\\n\")\n",
    "print(\"Portuguese dataset:\")\n",
    "param_grid= {'max_depth':[1,2,3,4,5],'min_samples_leaf':[2,3,4,5,6,7,8,9,10]}\n",
    "predicted_dt= cross_validation.cross_val_predict(GridSearchCV(DecisionTreeClassifier(),param_grid,verbose=0), df_p_5L.drop('G3',axis=1), df_p_5L['G3'], cv=10)\n",
    "print(\"Model accuracy: %f \" % metrics.accuracy_score(df_p_5L['G3'], predicted_dt))\n",
    "print(\"Confusion matrix: \\n%s \" % metrics.confusion_matrix(df_p_5L['G3'],predicted_dt))\n",
    "print(\"Classification report: \\n%s \" % metrics.classification_report(df_p_5L['G3'],predicted_dt))\n",
    "list_p.append(metrics.accuracy_score(df_p_5L['G3'], predicted_dt))\n",
    "\n",
    "print(\"Mathematics dataset:\")\n",
    "predicted_dt= cross_validation.cross_val_predict(GridSearchCV(DecisionTreeClassifier(),param_grid,verbose=0), df_m_5L.drop('G3',axis=1), df_m_5L['G3'], cv=10)\n",
    "print(\"Model accuracy: %f \" % metrics.accuracy_score(df_m_5L['G3'], predicted_dt))\n",
    "print(\"Confusion matrix: \\n%s \" % metrics.confusion_matrix(df_m_5L['G3'],predicted_dt))\n",
    "print(\"Classification report: \\n%s \" % metrics.classification_report(df_m_5L['G3'],predicted_dt))\n",
    "list_m.append(metrics.accuracy_score(df_m_5L['G3'], predicted_dt))"
   ]
  },
  {
   "cell_type": "markdown",
   "metadata": {},
   "source": [
    "# Neural Network                 :-------------------------------------------------------------"
   ]
  },
  {
   "cell_type": "code",
   "execution_count": 13,
   "metadata": {},
   "outputs": [
    {
     "name": "stdout",
     "output_type": "stream",
     "text": [
      "Multi Layer Perceptron:\n",
      "\n",
      "Portuguese dataset:\n",
      "Model accuracy: 0.637904 \n",
      "Confusion matrix: \n",
      "[[ 66  33   1   0   0]\n",
      " [ 34 144  21   2   0]\n",
      " [  0  27  90  35   2]\n",
      " [  0   2  33  51  26]\n",
      " [  0   0   3  16  63]] \n",
      "Classification report: \n",
      "             precision    recall  f1-score   support\n",
      "\n",
      "          0       0.66      0.66      0.66       100\n",
      "          1       0.70      0.72      0.71       201\n",
      "          2       0.61      0.58      0.60       154\n",
      "          3       0.49      0.46      0.47       112\n",
      "          4       0.69      0.77      0.73        82\n",
      "\n",
      "avg / total       0.63      0.64      0.64       649\n",
      " \n",
      "Mathematics dataset:\n",
      "Model accuracy: 0.650633 \n",
      "Confusion matrix: \n",
      "[[108  21   1   0   0]\n",
      " [ 23  55  24   1   0]\n",
      " [  0  18  30  13   1]\n",
      " [  0   2  13  35  10]\n",
      " [  0   0   1  10  29]] \n",
      "Classification report: \n",
      "             precision    recall  f1-score   support\n",
      "\n",
      "          0       0.82      0.83      0.83       130\n",
      "          1       0.57      0.53      0.55       103\n",
      "          2       0.43      0.48      0.46        62\n",
      "          3       0.59      0.58      0.59        60\n",
      "          4       0.72      0.72      0.73        40\n",
      "\n",
      "avg / total       0.65      0.65      0.65       395\n",
      " \n"
     ]
    }
   ],
   "source": [
    "from sklearn.neural_network import MLPClassifier\n",
    "\n",
    "from sklearn.grid_search import GridSearchCV\n",
    "\n",
    "print(\"Multi Layer Perceptron:\\n\")\n",
    "print(\"Portuguese dataset:\")\n",
    "param_grid= {'hidden_layer_sizes':[(10,10),(20,20,),(30,30)],'learning_rate_init':[0.01,0.005,0.001]}\n",
    "predicted_MLP= cross_validation.cross_val_predict(MLPClassifier(solver='lbfgs',max_iter=5000), df_p_5L.drop('G3',axis=1), df_p_5L['G3'], cv=10)\n",
    "print(\"Model accuracy: %f \" % metrics.accuracy_score(df_p_5L['G3'], predicted_MLP))\n",
    "print(\"Confusion matrix: \\n%s \" % metrics.confusion_matrix(df_p_5L['G3'],predicted_MLP))\n",
    "print(\"Classification report: \\n%s \" % metrics.classification_report(df_p_5L['G3'],predicted_MLP))\n",
    "list_p.append(metrics.accuracy_score(df_p_5L['G3'], predicted_MLP))\n",
    "\n",
    "print(\"Mathematics dataset:\")\n",
    "predicted_MLP= cross_validation.cross_val_predict(MLPClassifier(solver='lbfgs',max_iter=5000), df_m_5L.drop('G3',axis=1), df_m_5L['G3'], cv=10)\n",
    "print(\"Model accuracy: %f \" % metrics.accuracy_score(df_m_5L['G3'], predicted_MLP))\n",
    "print(\"Confusion matrix: \\n%s \" % metrics.confusion_matrix(df_m_5L['G3'],predicted_MLP))\n",
    "print(\"Classification report: \\n%s \" % metrics.classification_report(df_m_5L['G3'],predicted_MLP))\n",
    "list_m.append(metrics.accuracy_score(df_m_5L['G3'], predicted_MLP))"
   ]
  },
  {
   "cell_type": "markdown",
   "metadata": {},
   "source": [
    "# Random Forest Classifier:-------------------------------------------------------------"
   ]
  },
  {
   "cell_type": "code",
   "execution_count": 14,
   "metadata": {},
   "outputs": [
    {
     "name": "stdout",
     "output_type": "stream",
     "text": [
      "Random Forest Classifier:\n",
      "\n",
      "Portuguese dataset:\n",
      "Model accuracy: 0.727273 \n",
      "Confusion matrix: \n",
      "[[ 64  35   1   0   0]\n",
      " [ 14 181   6   0   0]\n",
      " [  0  32 111  11   0]\n",
      " [  0   1  42  53  16]\n",
      " [  0   1   0  18  63]] \n",
      "Classification report: \n",
      "             precision    recall  f1-score   support\n",
      "\n",
      "          0       0.82      0.64      0.72       100\n",
      "          1       0.72      0.90      0.80       201\n",
      "          2       0.69      0.72      0.71       154\n",
      "          3       0.65      0.47      0.55       112\n",
      "          4       0.80      0.77      0.78        82\n",
      "\n",
      "avg / total       0.73      0.73      0.72       649\n",
      " \n",
      "Mathematics dataset:\n",
      "Model accuracy: 0.716456 \n",
      "Confusion matrix: \n",
      "[[118  12   0   0   0]\n",
      " [ 24  66  13   0   0]\n",
      " [  0  23  29  10   0]\n",
      " [  0   3  11  40   6]\n",
      " [  0   0   1   9  30]] \n",
      "Classification report: \n",
      "             precision    recall  f1-score   support\n",
      "\n",
      "          0       0.83      0.91      0.87       130\n",
      "          1       0.63      0.64      0.64       103\n",
      "          2       0.54      0.47      0.50        62\n",
      "          3       0.68      0.67      0.67        60\n",
      "          4       0.83      0.75      0.79        40\n",
      "\n",
      "avg / total       0.71      0.72      0.71       395\n",
      " \n"
     ]
    }
   ],
   "source": [
    "from sklearn.ensemble import RandomForestClassifier\n",
    "from sklearn.grid_search import GridSearchCV\n",
    "\n",
    "print(\"Random Forest Classifier:\\n\")\n",
    "print(\"Portuguese dataset:\")\n",
    "predicted_rf= cross_validation.cross_val_predict(RandomForestClassifier(n_estimators=500,n_jobs=-1), df_p_5L.drop('G3',axis=1), df_p_5L['G3'], cv=10)\n",
    "print(\"Model accuracy: %f \" % metrics.accuracy_score(df_p_5L['G3'], predicted_rf))\n",
    "print(\"Confusion matrix: \\n%s \" % metrics.confusion_matrix(df_p_5L['G3'],predicted_rf))\n",
    "print(\"Classification report: \\n%s \" % metrics.classification_report(df_p_5L['G3'],predicted_rf))\n",
    "list_p.append(metrics.accuracy_score(df_p_5L['G3'], predicted_rf))\n",
    "\n",
    "print(\"Mathematics dataset:\")\n",
    "predicted_rf= cross_validation.cross_val_predict(RandomForestClassifier(n_estimators=500,n_jobs=-1), df_m_5L.drop('G3',axis=1), df_m_5L['G3'], cv=10)\n",
    "print(\"Model accuracy: %f \" % metrics.accuracy_score(df_m_5L['G3'], predicted_rf))\n",
    "print(\"Confusion matrix: \\n%s \" % metrics.confusion_matrix(df_m_5L['G3'],predicted_rf))\n",
    "print(\"Classification report: \\n%s \" % metrics.classification_report(df_m_5L['G3'],predicted_rf))\n",
    "list_m.append(metrics.accuracy_score(df_m_5L['G3'], predicted_rf))"
   ]
  },
  {
   "cell_type": "markdown",
   "metadata": {},
   "source": [
    "# Bagging with Decision Trees:----------------------------------------------------------"
   ]
  },
  {
   "cell_type": "code",
   "execution_count": 15,
   "metadata": {},
   "outputs": [
    {
     "name": "stdout",
     "output_type": "stream",
     "text": [
      "Bagging:\n",
      "\n",
      "Portuguese dataset:\n",
      "Model accuracy: 0.745763 \n",
      "Confusion matrix: \n",
      "[[ 64  35   0   1   0]\n",
      " [ 13 183   5   0   0]\n",
      " [  0  32 116   6   0]\n",
      " [  0   1  41  62   8]\n",
      " [  0   1   0  22  59]] \n",
      "Classification report: \n",
      "             precision    recall  f1-score   support\n",
      "\n",
      "          0       0.83      0.64      0.72       100\n",
      "          1       0.73      0.91      0.81       201\n",
      "          2       0.72      0.75      0.73       154\n",
      "          3       0.68      0.55      0.61       112\n",
      "          4       0.88      0.72      0.79        82\n",
      "\n",
      "avg / total       0.75      0.75      0.74       649\n",
      " \n",
      "Mathematics dataset:\n",
      "Model accuracy: 0.746835 \n",
      "Confusion matrix: \n",
      "[[117  13   0   0   0]\n",
      " [ 26  62  15   0   0]\n",
      " [  0  15  42   5   0]\n",
      " [  0   0  12  45   3]\n",
      " [  0   0   0  11  29]] \n",
      "Classification report: \n",
      "             precision    recall  f1-score   support\n",
      "\n",
      "          0       0.82      0.90      0.86       130\n",
      "          1       0.69      0.60      0.64       103\n",
      "          2       0.61      0.68      0.64        62\n",
      "          3       0.74      0.75      0.74        60\n",
      "          4       0.91      0.72      0.81        40\n",
      "\n",
      "avg / total       0.75      0.75      0.74       395\n",
      " \n"
     ]
    }
   ],
   "source": [
    "from sklearn.ensemble import BaggingClassifier\n",
    "print(\"Bagging with Decision Trees:\\n\")\n",
    "print(\"Portuguese dataset:\")\n",
    "param_grid= {'max_depth':[1,2,3,4,5],'min_samples_leaf':[2,3,4,5,6,7,8,9,10]}\n",
    "predicted_bDT= cross_validation.cross_val_predict(BaggingClassifier(GridSearchCV(DecisionTreeClassifier(),param_grid,verbose=0)), df_p_5L.drop('G3',axis=1), df_p_5L['G3'], cv=10)\n",
    "print(\"Model accuracy: %f \" % metrics.accuracy_score(df_p_5L['G3'], predicted_bDT))\n",
    "print(\"Confusion matrix: \\n%s \" % metrics.confusion_matrix(df_p_5L['G3'],predicted_bDT))\n",
    "print(\"Classification report: \\n%s \" % metrics.classification_report(df_p_5L['G3'],predicted_bDT))\n",
    "list_p.append(metrics.accuracy_score(df_p_5L['G3'], predicted_bDT))\n",
    "\n",
    "print(\"Mathematics dataset:\")\n",
    "predicted_bDT= cross_validation.cross_val_predict(BaggingClassifier(GridSearchCV(DecisionTreeClassifier(),param_grid,verbose=0)), df_m_5L.drop('G3',axis=1), df_m_5L['G3'], cv=10)\n",
    "print(\"Model accuracy: %f \" % metrics.accuracy_score(df_m_5L['G3'], predicted_bDT))\n",
    "print(\"Confusion matrix: \\n%s \" % metrics.confusion_matrix(df_m_5L['G3'],predicted_bDT))\n",
    "print(\"Classification report: \\n%s \" % metrics.classification_report(df_m_5L['G3'],predicted_bDT))\n",
    "list_m.append(metrics.accuracy_score(df_m_5L['G3'], predicted_bDT))"
   ]
  },
  {
   "cell_type": "markdown",
   "metadata": {},
   "source": [
    "# Ensemble (SVM,RF,DT) :----------------------------------------------------------------"
   ]
  },
  {
   "cell_type": "code",
   "execution_count": 53,
   "metadata": {},
   "outputs": [
    {
     "name": "stdout",
     "output_type": "stream",
     "text": [
      "Model accuracy: 0.716487 \n",
      "Confusion matrix: \n",
      "[[ 62  37   1   0   0]\n",
      " [ 14 180   7   0   0]\n",
      " [  0  32 109  13   0]\n",
      " [  0   3  41  53  15]\n",
      " [  0   1   0  20  61]] \n",
      "Classification report: \n",
      "             precision    recall  f1-score   support\n",
      "\n",
      "          0       0.82      0.62      0.70       100\n",
      "          1       0.71      0.90      0.79       201\n",
      "          2       0.69      0.71      0.70       154\n",
      "          3       0.62      0.47      0.54       112\n",
      "          4       0.80      0.74      0.77        82\n",
      "\n",
      "avg / total       0.72      0.72      0.71       649\n",
      " \n",
      "Mathematics dataset:\n",
      "Model accuracy: 0.693671 \n",
      "Confusion matrix: \n",
      "[[119  11   0   0   0]\n",
      " [ 26  62  15   0   0]\n",
      " [  0  25  26  11   0]\n",
      " [  0   2  13  39   6]\n",
      " [  0   0   1  11  28]] \n",
      "Classification report: \n",
      "             precision    recall  f1-score   support\n",
      "\n",
      "          0       0.82      0.92      0.87       130\n",
      "          1       0.62      0.60      0.61       103\n",
      "          2       0.47      0.42      0.44        62\n",
      "          3       0.64      0.65      0.64        60\n",
      "          4       0.82      0.70      0.76        40\n",
      "\n",
      "avg / total       0.69      0.69      0.69       395\n",
      " \n"
     ]
    }
   ],
   "source": [
    "from sklearn.ensemble import VotingClassifier\n",
    "\n",
    "print(\"Ensemble(SVM,RF,DT):\\n\")\n",
    "print(\"Portuguese dataset:\")\n",
    "ensemble= VotingClassifier(estimators=[('SVM', SVC()), ('DT', DecisionTreeClassifier()), ('RF', RandomForestClassifier(n_estimators=500,n_jobs=-1))], voting='hard')\n",
    "predicted_en= cross_validation.cross_val_predict(ensemble, df_p_5L.drop('G3',axis=1), df_p_5L['G3'], cv=10)\n",
    "print(\"Model accuracy: %f \" % metrics.accuracy_score(df_p_5L['G3'], predicted_en))\n",
    "print(\"Confusion matrix: \\n%s \" % metrics.confusion_matrix(df_p_5L['G3'],predicted_en))\n",
    "print(\"Classification report: \\n%s \" % metrics.classification_report(df_p_5L['G3'],predicted_en))\n",
    "list_p.append(metrics.accuracy_score(df_p_5L['G3'], predicted_en))\n",
    "\n",
    "print(\"Mathematics dataset:\")\n",
    "predicted_en= cross_validation.cross_val_predict(RandomForestClassifier(n_estimators=500,n_jobs=-1), df_m_5L.drop('G3',axis=1), df_m_5L['G3'], cv=10)\n",
    "print(\"Model accuracy: %f \" % metrics.accuracy_score(df_m_5L['G3'], predicted_en))\n",
    "print(\"Confusion matrix: \\n%s \" % metrics.confusion_matrix(df_m_5L['G3'],predicted_en))\n",
    "print(\"Classification report: \\n%s \" % metrics.classification_report(df_m_5L['G3'],predicted_en))\n",
    "list_m.append(metrics.accuracy_score(df_m_5L['G3'], predicted_en))"
   ]
  },
  {
   "cell_type": "markdown",
   "metadata": {},
   "source": [
    "# Summarizing the results in the form of a table :-------------------------------------"
   ]
  },
  {
   "cell_type": "code",
   "execution_count": 54,
   "metadata": {
    "collapsed": true
   },
   "outputs": [],
   "source": [
    "acc= {'LR':[list_p[0],list_m[0]],'NB':[list_p[1],list_m[1]],'SVM':[list_p[2],list_m[2]],'DT':[list_p[3],list_m[3]],'NN':[list_p[4],list_m[4]],'RF':[list_p[5],list_m[5]],'Bagging':[list_p[6],list_m[6]],'Ensemble':[list_p[7],list_m[7]]}"
   ]
  },
  {
   "cell_type": "code",
   "execution_count": 57,
   "metadata": {},
   "outputs": [
    {
     "name": "stdout",
     "output_type": "stream",
     "text": [
      "Final results for the 5-level classification problem:\n",
      "\n"
     ]
    },
    {
     "data": {
      "text/html": [
       "<div>\n",
       "<style>\n",
       "    .dataframe thead tr:only-child th {\n",
       "        text-align: right;\n",
       "    }\n",
       "\n",
       "    .dataframe thead th {\n",
       "        text-align: left;\n",
       "    }\n",
       "\n",
       "    .dataframe tbody tr th {\n",
       "        vertical-align: top;\n",
       "    }\n",
       "</style>\n",
       "<table border=\"1\" class=\"dataframe\">\n",
       "  <thead>\n",
       "    <tr style=\"text-align: right;\">\n",
       "      <th></th>\n",
       "      <th>NB</th>\n",
       "      <th>LR</th>\n",
       "      <th>NN</th>\n",
       "      <th>SVM</th>\n",
       "      <th>Ensemble</th>\n",
       "      <th>RF</th>\n",
       "      <th>Bagging</th>\n",
       "      <th>DT</th>\n",
       "    </tr>\n",
       "  </thead>\n",
       "  <tbody>\n",
       "    <tr>\n",
       "      <th>Portuguese</th>\n",
       "      <td>0.469954</td>\n",
       "      <td>0.533128</td>\n",
       "      <td>0.637904</td>\n",
       "      <td>0.696456</td>\n",
       "      <td>0.716487</td>\n",
       "      <td>0.727273</td>\n",
       "      <td>0.745763</td>\n",
       "      <td>0.759630</td>\n",
       "    </tr>\n",
       "    <tr>\n",
       "      <th>Mathematics</th>\n",
       "      <td>0.544304</td>\n",
       "      <td>0.587342</td>\n",
       "      <td>0.650633</td>\n",
       "      <td>0.696203</td>\n",
       "      <td>0.693671</td>\n",
       "      <td>0.716456</td>\n",
       "      <td>0.746835</td>\n",
       "      <td>0.706329</td>\n",
       "    </tr>\n",
       "  </tbody>\n",
       "</table>\n",
       "</div>"
      ],
      "text/plain": [
       "                   NB        LR        NN       SVM  Ensemble        RF  \\\n",
       "Portuguese   0.469954  0.533128  0.637904  0.696456  0.716487  0.727273   \n",
       "Mathematics  0.544304  0.587342  0.650633  0.696203  0.693671  0.716456   \n",
       "\n",
       "              Bagging        DT  \n",
       "Portuguese   0.745763  0.759630  \n",
       "Mathematics  0.746835  0.706329  "
      ]
     },
     "execution_count": 57,
     "metadata": {},
     "output_type": "execute_result"
    }
   ],
   "source": [
    "print(\"Final results for the 5-level classification problem:\\n\")\n",
    "pd.DataFrame(acc,index=['Portuguese','Mathematics']).sort_values(['Portuguese'],axis=1)"
   ]
  },
  {
   "cell_type": "code",
   "execution_count": 14,
   "metadata": {},
   "outputs": [
    {
     "name": "stdout",
     "output_type": "stream",
     "text": [
      "Automatically created module for IPython interactive environment\n",
      "Feature ranking:\n",
      "1. feature 31 (0.190447)\n",
      "2. feature 30 (0.129149)\n",
      "3. feature 29 (0.031481)\n",
      "4. feature 25 (0.029626)\n",
      "5. feature 7 (0.029310)\n",
      "6. feature 28 (0.029297)\n",
      "7. feature 2 (0.029280)\n",
      "8. feature 23 (0.029185)\n",
      "9. feature 8 (0.029058)\n",
      "10. feature 24 (0.028902)\n",
      "11. feature 27 (0.028759)\n",
      "12. feature 6 (0.028137)\n",
      "13. feature 13 (0.027619)\n",
      "14. feature 10 (0.026146)\n",
      "15. feature 9 (0.024908)\n",
      "16. feature 14 (0.023558)\n",
      "17. feature 12 (0.023025)\n",
      "18. feature 0 (0.021997)\n",
      "19. feature 26 (0.021040)\n",
      "20. feature 16 (0.020736)\n",
      "21. feature 18 (0.020003)\n",
      "22. feature 1 (0.019669)\n",
      "23. feature 11 (0.019582)\n",
      "24. feature 4 (0.019413)\n",
      "25. feature 22 (0.019094)\n",
      "26. feature 20 (0.017709)\n",
      "27. feature 21 (0.015978)\n",
      "28. feature 19 (0.015789)\n",
      "29. feature 3 (0.015707)\n",
      "30. feature 15 (0.013376)\n",
      "31. feature 5 (0.012783)\n",
      "32. feature 17 (0.009237)\n"
     ]
    },
    {
     "data": {
      "image/png": "[encoded data removed]",
      "text/plain": [
       "<matplotlib.figure.Figure at 0x1115cda58>"
      ]
     },
     "metadata": {},
     "output_type": "display_data"
    }
   ],
   "source": [
    "print(__doc__)\n",
    "\n",
    "import numpy as np\n",
    "import matplotlib.pyplot as plt\n",
    "\n",
    "from sklearn.datasets import make_classification\n",
    "from sklearn.ensemble import ExtraTreesClassifier\n",
    "\n",
    "\n",
    "\n",
    "# Build a forest and compute the feature importances\n",
    "forest = ExtraTreesClassifier(n_estimators=250,\n",
    "                              random_state=0)\n",
    "\n",
    "X= df_p_5L.iloc[:,0:32]\n",
    "y= df_p_5L['G3']\n",
    "forest.fit(X, y)\n",
    "importances = forest.feature_importances_\n",
    "std = np.std([tree.feature_importances_ for tree in forest.estimators_],\n",
    "             axis=0)\n",
    "indices = np.argsort(importances)[::-1]\n",
    "\n",
    "# Print the feature ranking\n",
    "print(\"Feature ranking:\")\n",
    "\n",
    "for f in range(X.shape[1]):\n",
    "    print(\"%d. feature %d (%f)\" % (f + 1, indices[f], importances[indices[f]]))\n",
    "\n",
    "# Plot the feature importances of the forest\n",
    "plt.figure()\n",
    "plt.title(\"Feature importances\")\n",
    "plt.bar(range(X.shape[1]), importances[indices],\n",
    "       color=\"r\", yerr=std[indices], align=\"center\")\n",
    "plt.xticks(range(X.shape[1]), indices)\n",
    "plt.xlim([-1, X.shape[1]])\n",
    "plt.show()"
   ]
  },
  {
   "cell_type": "code",
   "execution_count": 60,
   "metadata": {},
   "outputs": [
    {
     "name": "stdout",
     "output_type": "stream",
     "text": [
      "[NbConvertApp] Converting notebook CSC_522_FinalProject_5LevelClassification.ipynb to script\n",
      "[NbConvertApp] Writing 13547 bytes to CSC_522_FinalProject_5LevelClassification.py\n"
     ]
    }
   ],
   "source": [
    "! jupyter nbconvert --to script CSC_522_FinalProject_5LevelClassification.ipynb"
   ]
  },
  {
   "cell_type": "code",
   "execution_count": null,
   "metadata": {
    "collapsed": true
   },
   "outputs": [],
   "source": []
  }
 ],
 "metadata": {
  "kernelspec": {
   "display_name": "Python 3",
   "language": "python",
   "name": "python3"
  },
  "language_info": {
   "codemirror_mode": {
    "name": "ipython",
    "version": 3
   },
   "file_extension": ".py",
   "mimetype": "text/x-python",
   "name": "python",
   "nbconvert_exporter": "python",
   "pygments_lexer": "ipython3",
   "version": "3.8.5"
  }
 },
 "nbformat": 4,
 "nbformat_minor": 2
}
